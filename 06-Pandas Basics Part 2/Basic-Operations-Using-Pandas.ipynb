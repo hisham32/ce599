{
 "cells": [
  {
   "cell_type": "markdown",
   "metadata": {},
   "source": [
    "# More Basics of Pandas"
   ]
  },
  {
   "cell_type": "markdown",
   "metadata": {},
   "source": [
    "Last session we introduced Pandas quickly. Now we review the basics of using Pandas, with a more interactive workflow to solidify understanding and facility with this powerful Python toolkit."
   ]
  },
  {
   "cell_type": "markdown",
   "metadata": {},
   "source": [
    "## Reviewing Pandas Basics"
   ]
  },
  {
   "cell_type": "code",
   "execution_count": 2,
   "metadata": {},
   "outputs": [],
   "source": [
    "from pandas import DataFrame\n",
    "import pandas as pd"
   ]
  },
  {
   "cell_type": "code",
   "execution_count": null,
   "metadata": {},
   "outputs": [],
   "source": [
    "import pandas as pd\n",
    "df = pd.read_csv('DEC_10_SF1_P1_with_ann.csv')"
   ]
  },
  {
   "cell_type": "markdown",
   "metadata": {},
   "source": [
    "### Basics of indexing in Pandas\n",
    "\n",
    "The first use of indexing is to use a slice, just like we have done with other Python objects. Below we slice the first 5 index values of the first dimension of the dataframe."
   ]
  },
  {
   "cell_type": "code",
   "execution_count": null,
   "metadata": {},
   "outputs": [],
   "source": [
    "df[:5]"
   ]
  },
  {
   "cell_type": "markdown",
   "metadata": {},
   "source": [
    "The first indexing method is equivalent to usinf the iloc indexing method, which uses the integer based indexing, purely based on the location of the index."
   ]
  },
  {
   "cell_type": "code",
   "execution_count": null,
   "metadata": {},
   "outputs": [],
   "source": [
    "df.iloc[:5]"
   ]
  },
  {
   "cell_type": "markdown",
   "metadata": {},
   "source": [
    "A second way to index is using loc, which uses the labels of the index. Note that this approach includes the second value in the index range, whereas iloc does not."
   ]
  },
  {
   "cell_type": "code",
   "execution_count": null,
   "metadata": {},
   "outputs": [],
   "source": [
    "df.loc[:5]"
   ]
  },
  {
   "cell_type": "markdown",
   "metadata": {},
   "source": [
    "Note that indexing can work for both rows and colums"
   ]
  },
  {
   "cell_type": "code",
   "execution_count": null,
   "metadata": {},
   "outputs": [],
   "source": [
    "df.loc[:5, : 'Geography']"
   ]
  },
  {
   "cell_type": "code",
   "execution_count": null,
   "metadata": {
    "scrolled": false
   },
   "outputs": [],
   "source": [
    "df.iloc[:5, :3]"
   ]
  },
  {
   "cell_type": "markdown",
   "metadata": {},
   "source": [
    "We can select rows based on their value as well.  Notice that we nest df[df[condition]] to get this result."
   ]
  },
  {
   "cell_type": "code",
   "execution_count": null,
   "metadata": {},
   "outputs": [],
   "source": [
    "df[df['Population'] < 200]"
   ]
  },
  {
   "cell_type": "code",
   "execution_count": null,
   "metadata": {},
   "outputs": [],
   "source": [
    "df[df['Id2']==21015980100]"
   ]
  },
  {
   "cell_type": "markdown",
   "metadata": {},
   "source": [
    "Here we show how to set a value of a cell in the table, identifying a specific row by index label, and setting its population, in this case to a None value, which Pandas interprets as a NaN (missing value)."
   ]
  },
  {
   "cell_type": "code",
   "execution_count": null,
   "metadata": {},
   "outputs": [],
   "source": [
    "df.loc[688,'Population'] = None"
   ]
  },
  {
   "cell_type": "markdown",
   "metadata": {},
   "source": [
    "We can filter for values that are Null"
   ]
  },
  {
   "cell_type": "code",
   "execution_count": null,
   "metadata": {},
   "outputs": [],
   "source": [
    "df[df['Population'].isnull()]"
   ]
  },
  {
   "cell_type": "markdown",
   "metadata": {},
   "source": [
    "Or more commonly, filter out the null values."
   ]
  },
  {
   "cell_type": "code",
   "execution_count": null,
   "metadata": {},
   "outputs": [],
   "source": [
    "df[df['Population'].notnull()]"
   ]
  },
  {
   "cell_type": "markdown",
   "metadata": {},
   "source": [
    "Here we find and print records that are in Fayette County, using the str attribute and 'contains' to search for the county name in geodisplay."
   ]
  },
  {
   "cell_type": "code",
   "execution_count": null,
   "metadata": {},
   "outputs": [],
   "source": [
    "df[df['Geography'].str.contains('Fayette County')]"
   ]
  },
  {
   "cell_type": "markdown",
   "metadata": {},
   "source": [
    "We can find the unique values of a column (not very interesting in this particular case)"
   ]
  },
  {
   "cell_type": "markdown",
   "metadata": {},
   "source": [
    "We saw last time how to use the str attribute to do string manipulation, such as to create a new column.  We need to explore some more advanced string processing, but let's use a smaller dataframe for that."
   ]
  },
  {
   "cell_type": "code",
   "execution_count": null,
   "metadata": {},
   "outputs": [],
   "source": [
    "df['state'] = df['Geography'].str.split(',').str[2]\n",
    "df[:5]"
   ]
  },
  {
   "cell_type": "code",
   "execution_count": null,
   "metadata": {},
   "outputs": [],
   "source": [
    "df['county'] = df['Geography'].str.split(',').str[1]\n",
    "df[:5]"
   ]
  },
  {
   "cell_type": "code",
   "execution_count": null,
   "metadata": {},
   "outputs": [],
   "source": [
    "df['county'].unique()"
   ]
  },
  {
   "cell_type": "markdown",
   "metadata": {},
   "source": [
    "And count how many times each unique value is in the data"
   ]
  },
  {
   "cell_type": "code",
   "execution_count": null,
   "metadata": {},
   "outputs": [],
   "source": [
    "df['county'].value_counts()"
   ]
  },
  {
   "cell_type": "markdown",
   "metadata": {},
   "source": [
    "### More complex use of Indexing and String Manipulation -- Cleaning the Bedroom Field in the Craigslist data"
   ]
  },
  {
   "cell_type": "code",
   "execution_count": 10,
   "metadata": {},
   "outputs": [
    {
     "data": {
      "text/html": [
       "<div>\n",
       "<style scoped>\n",
       "    .dataframe tbody tr th:only-of-type {\n",
       "        vertical-align: middle;\n",
       "    }\n",
       "\n",
       "    .dataframe tbody tr th {\n",
       "        vertical-align: top;\n",
       "    }\n",
       "\n",
       "    .dataframe thead th {\n",
       "        text-align: right;\n",
       "    }\n",
       "</style>\n",
       "<table border=\"1\" class=\"dataframe\">\n",
       "  <thead>\n",
       "    <tr style=\"text-align: right;\">\n",
       "      <th></th>\n",
       "      <th>neighborhood</th>\n",
       "      <th>title</th>\n",
       "      <th>price</th>\n",
       "      <th>bedrooms</th>\n",
       "      <th>pid</th>\n",
       "      <th>longitude</th>\n",
       "      <th>date</th>\n",
       "      <th>link</th>\n",
       "      <th>latitude</th>\n",
       "      <th>sqft</th>\n",
       "      <th>sourcepage</th>\n",
       "    </tr>\n",
       "  </thead>\n",
       "  <tbody>\n",
       "    <tr>\n",
       "      <th>0</th>\n",
       "      <td>(SOMA / south beach)</td>\n",
       "      <td>1bed + Den, 1bath at Mission Bay</td>\n",
       "      <td>$2895</td>\n",
       "      <td>/ 1br - 950ft² -</td>\n",
       "      <td>4046628359</td>\n",
       "      <td>-122.399663</td>\n",
       "      <td>Sep  4 2013</td>\n",
       "      <td>/sfc/apa/4046628359.html</td>\n",
       "      <td>37.774623</td>\n",
       "      <td>/ 1br - 950ft² -</td>\n",
       "      <td>http://sfbay.craigslist.org/sfc/apa/</td>\n",
       "    </tr>\n",
       "    <tr>\n",
       "      <th>1</th>\n",
       "      <td>(SOMA / south beach)</td>\n",
       "      <td>Love where you live!</td>\n",
       "      <td>$3354</td>\n",
       "      <td>/ 1br - 710ft² -</td>\n",
       "      <td>4046761563</td>\n",
       "      <td>NaN</td>\n",
       "      <td>Sep  4 2013</td>\n",
       "      <td>/sfc/apa/4046761563.html</td>\n",
       "      <td>NaN</td>\n",
       "      <td>/ 1br - 710ft² -</td>\n",
       "      <td>http://sfbay.craigslist.org/sfc/apa/</td>\n",
       "    </tr>\n",
       "    <tr>\n",
       "      <th>2</th>\n",
       "      <td>(inner sunset / UCSF)</td>\n",
       "      <td>We Welcome Your Furry Friends! Call Today!</td>\n",
       "      <td>$2865</td>\n",
       "      <td>/ 1br - 644ft² -</td>\n",
       "      <td>4046661504</td>\n",
       "      <td>-122.470727</td>\n",
       "      <td>Sep  4 2013</td>\n",
       "      <td>/sfc/apa/4046661504.html</td>\n",
       "      <td>37.765739</td>\n",
       "      <td>/ 1br - 644ft² -</td>\n",
       "      <td>http://sfbay.craigslist.org/sfc/apa/</td>\n",
       "    </tr>\n",
       "    <tr>\n",
       "      <th>3</th>\n",
       "      <td>(financial district)</td>\n",
       "      <td>Golden Gateway Commons | 2BR + office townhous...</td>\n",
       "      <td>$5500</td>\n",
       "      <td>/ 2br - 1450ft² -</td>\n",
       "      <td>4036170429</td>\n",
       "      <td>NaN</td>\n",
       "      <td>Sep  4 2013</td>\n",
       "      <td>/sfc/apa/4036170429.html</td>\n",
       "      <td>NaN</td>\n",
       "      <td>/ 2br - 1450ft² -</td>\n",
       "      <td>http://sfbay.craigslist.org/sfc/apa/</td>\n",
       "    </tr>\n",
       "    <tr>\n",
       "      <th>4</th>\n",
       "      <td>(lower nob hill)</td>\n",
       "      <td>Experience Luxury Living in San Fransisco!</td>\n",
       "      <td>$3892</td>\n",
       "      <td>/ 2br -</td>\n",
       "      <td>4046732678</td>\n",
       "      <td>NaN</td>\n",
       "      <td>Sep  4 2013</td>\n",
       "      <td>/sfc/apa/4046732678.html</td>\n",
       "      <td>NaN</td>\n",
       "      <td>/ 2br -</td>\n",
       "      <td>http://sfbay.craigslist.org/sfc/apa/</td>\n",
       "    </tr>\n",
       "    <tr>\n",
       "      <th>5</th>\n",
       "      <td>(sunset / parkside)</td>\n",
       "      <td>$1250 - 1 bdrm, 1 bath</td>\n",
       "      <td>$1250</td>\n",
       "      <td>/ 1br -</td>\n",
       "      <td>4046731229</td>\n",
       "      <td>NaN</td>\n",
       "      <td>Sep  4 2013</td>\n",
       "      <td>/sfc/apa/4046731229.html</td>\n",
       "      <td>NaN</td>\n",
       "      <td>/ 1br -</td>\n",
       "      <td>http://sfbay.craigslist.org/sfc/apa/</td>\n",
       "    </tr>\n",
       "    <tr>\n",
       "      <th>6</th>\n",
       "      <td>(SOMA / south beach)</td>\n",
       "      <td>Made For The Die-hard Giants Fan</td>\n",
       "      <td>$3249</td>\n",
       "      <td>/ 549ft² -</td>\n",
       "      <td>4046730047</td>\n",
       "      <td>-122.389798</td>\n",
       "      <td>Sep  4 2013</td>\n",
       "      <td>/sfc/apa/4046730047.html</td>\n",
       "      <td>37.774192</td>\n",
       "      <td>/ 549ft² -</td>\n",
       "      <td>http://sfbay.craigslist.org/sfc/apa/</td>\n",
       "    </tr>\n",
       "    <tr>\n",
       "      <th>7</th>\n",
       "      <td>(russian hill)</td>\n",
       "      <td>Open Concept 1bed 1bath</td>\n",
       "      <td>$2690</td>\n",
       "      <td>/ 1br - 781ft² -</td>\n",
       "      <td>4046570245</td>\n",
       "      <td>-122.420787</td>\n",
       "      <td>Sep  4 2013</td>\n",
       "      <td>/sfc/apa/4046570245.html</td>\n",
       "      <td>37.796034</td>\n",
       "      <td>/ 1br - 781ft² -</td>\n",
       "      <td>http://sfbay.craigslist.org/sfc/apa/</td>\n",
       "    </tr>\n",
       "    <tr>\n",
       "      <th>8</th>\n",
       "      <td>NaN</td>\n",
       "      <td>Contemporary, charming 2bds/1ba with private d...</td>\n",
       "      <td>$2850</td>\n",
       "      <td>/ 2br -</td>\n",
       "      <td>4006732632</td>\n",
       "      <td>-122.457100</td>\n",
       "      <td>Sep  4 2013</td>\n",
       "      <td>/sfc/apa/4006732632.html</td>\n",
       "      <td>37.735400</td>\n",
       "      <td>/ 2br -</td>\n",
       "      <td>http://sfbay.craigslist.org/sfc/apa/</td>\n",
       "    </tr>\n",
       "  </tbody>\n",
       "</table>\n",
       "</div>"
      ],
      "text/plain": [
       "             neighborhood                                              title  \\\n",
       "0    (SOMA / south beach)                   1bed + Den, 1bath at Mission Bay   \n",
       "1    (SOMA / south beach)                               Love where you live!   \n",
       "2   (inner sunset / UCSF)         We Welcome Your Furry Friends! Call Today!   \n",
       "3    (financial district)  Golden Gateway Commons | 2BR + office townhous...   \n",
       "4        (lower nob hill)         Experience Luxury Living in San Fransisco!   \n",
       "5     (sunset / parkside)                             $1250 - 1 bdrm, 1 bath   \n",
       "6    (SOMA / south beach)                   Made For The Die-hard Giants Fan   \n",
       "7          (russian hill)                            Open Concept 1bed 1bath   \n",
       "8                     NaN  Contemporary, charming 2bds/1ba with private d...   \n",
       "\n",
       "   price                  bedrooms         pid   longitude         date  \\\n",
       "0  $2895      / 1br - 950ft² -      4046628359 -122.399663  Sep  4 2013   \n",
       "1  $3354      / 1br - 710ft² -      4046761563         NaN  Sep  4 2013   \n",
       "2  $2865      / 1br - 644ft² -      4046661504 -122.470727  Sep  4 2013   \n",
       "3  $5500     / 2br - 1450ft² -      4036170429         NaN  Sep  4 2013   \n",
       "4  $3892               / 2br -      4046732678         NaN  Sep  4 2013   \n",
       "5  $1250               / 1br -      4046731229         NaN  Sep  4 2013   \n",
       "6  $3249            / 549ft² -      4046730047 -122.389798  Sep  4 2013   \n",
       "7  $2690      / 1br - 781ft² -      4046570245 -122.420787  Sep  4 2013   \n",
       "8  $2850               / 2br -      4006732632 -122.457100  Sep  4 2013   \n",
       "\n",
       "                       link   latitude                      sqft  \\\n",
       "0  /sfc/apa/4046628359.html  37.774623      / 1br - 950ft² -       \n",
       "1  /sfc/apa/4046761563.html        NaN      / 1br - 710ft² -       \n",
       "2  /sfc/apa/4046661504.html  37.765739      / 1br - 644ft² -       \n",
       "3  /sfc/apa/4036170429.html        NaN     / 2br - 1450ft² -       \n",
       "4  /sfc/apa/4046732678.html        NaN               / 2br -       \n",
       "5  /sfc/apa/4046731229.html        NaN               / 1br -       \n",
       "6  /sfc/apa/4046730047.html  37.774192            / 549ft² -       \n",
       "7  /sfc/apa/4046570245.html  37.796034      / 1br - 781ft² -       \n",
       "8  /sfc/apa/4006732632.html  37.735400               / 2br -       \n",
       "\n",
       "                             sourcepage  \n",
       "0  http://sfbay.craigslist.org/sfc/apa/  \n",
       "1  http://sfbay.craigslist.org/sfc/apa/  \n",
       "2  http://sfbay.craigslist.org/sfc/apa/  \n",
       "3  http://sfbay.craigslist.org/sfc/apa/  \n",
       "4  http://sfbay.craigslist.org/sfc/apa/  \n",
       "5  http://sfbay.craigslist.org/sfc/apa/  \n",
       "6  http://sfbay.craigslist.org/sfc/apa/  \n",
       "7  http://sfbay.craigslist.org/sfc/apa/  \n",
       "8  http://sfbay.craigslist.org/sfc/apa/  "
      ]
     },
     "execution_count": 10,
     "metadata": {},
     "output_type": "execute_result"
    }
   ],
   "source": [
    "import re as re, pandas as pd, numpy as np\n",
    "cl = pd.read_csv('items.csv')\n",
    "cl[:9]"
   ]
  },
  {
   "cell_type": "markdown",
   "metadata": {},
   "source": [
    "This is a worked part of your assignment for this week.  Here is a code snippet that uses some of what we just learned above, and extends it to clean the bedroom field in this data.  Adapting it to clean sqft remains for you to do in the assignment...\n",
    "\n",
    "Below are three different ways to do this.  The first involves looping over the index of the dataframe, and finding the beginning and end of the substring we are looking for, to isolate the bedrooms value."
   ]
  },
  {
   "cell_type": "code",
   "execution_count": 4,
   "metadata": {},
   "outputs": [
    {
     "data": {
      "text/plain": [
       "0      1\n",
       "1      1\n",
       "2      1\n",
       "3      2\n",
       "4      2\n",
       "5      1\n",
       "6    NaN\n",
       "7      1\n",
       "8      2\n",
       "Name: bedrooms, dtype: object"
      ]
     },
     "execution_count": 4,
     "metadata": {},
     "output_type": "execute_result"
    }
   ],
   "source": [
    "for label in cl['bedrooms'].index:\n",
    "    if isinstance(cl['bedrooms'][label], str) and not pd.isnull(cl['bedrooms'][label]):\n",
    "        end = cl['bedrooms'][label].find('br')\n",
    "        if end == -1:\n",
    "            cl.loc[label,'bedrooms'] = np.nan\n",
    "        else:\n",
    "            start = cl['bedrooms'][label].find('/ ') + 2\n",
    "            cl.loc[label,'bedrooms'] = int(cl['bedrooms'][label][start: end])\n",
    "cl['bedrooms'][:9]"
   ]
  },
  {
   "cell_type": "markdown",
   "metadata": {},
   "source": [
    "Here is a second way to do this that is much more elegant, and in some ways much simpler since it does not require looping over the index values.  It uses the Series map method to apply an element-wise function.  This is covered briefly on page 133 of Pandas for Data Analysis, and more exensively in online documentation."
   ]
  },
  {
   "cell_type": "code",
   "execution_count": 6,
   "metadata": {},
   "outputs": [
    {
     "data": {
      "text/plain": [
       "0    1.0\n",
       "1    1.0\n",
       "2    1.0\n",
       "3    2.0\n",
       "4    2.0\n",
       "5    1.0\n",
       "6    NaN\n",
       "7    1.0\n",
       "8    2.0\n",
       "Name: bedrooms, dtype: float64"
      ]
     },
     "execution_count": 6,
     "metadata": {},
     "output_type": "execute_result"
    }
   ],
   "source": [
    "cl = pd.read_csv('items.csv')\n",
    "def clean_br(value):\n",
    "    if isinstance(value, str):\n",
    "        end = value.find('br')\n",
    "        if end == -1:\n",
    "            return None\n",
    "        else:\n",
    "            start = value.find('/') + 2\n",
    "            return int(value[start:end])\n",
    "cl['bedrooms'] = cl['bedrooms'].map(clean_br)\n",
    "cl['bedrooms'][:9]"
   ]
  },
  {
   "cell_type": "markdown",
   "metadata": {},
   "source": [
    "The third way to do this is using Regular Expressions (regex).  It is covered on pages 207-210.  It is powerful and concise, but the syntax is more cryptic."
   ]
  },
  {
   "cell_type": "code",
   "execution_count": 7,
   "metadata": {},
   "outputs": [
    {
     "data": {
      "text/plain": [
       "0      1\n",
       "1      1\n",
       "2      1\n",
       "3      2\n",
       "4      2\n",
       "5      1\n",
       "6    NaN\n",
       "7      1\n",
       "8      2\n",
       "Name: bedrooms, dtype: object"
      ]
     },
     "execution_count": 7,
     "metadata": {},
     "output_type": "execute_result"
    }
   ],
   "source": [
    "cl = pd.read_csv('items.csv')\n",
    "for i in cl['bedrooms'].index:\n",
    "    r = re.search('(?<=\\/ )(.*)(?=br)', cl.loc[i,'bedrooms'])\n",
    "    cl.loc[i,'bedrooms'] = r.group(0) if r else np.nan\n",
    "\n",
    "cl['bedrooms'][:9]"
   ]
  },
  {
   "cell_type": "code",
   "execution_count": 16,
   "metadata": {},
   "outputs": [
    {
     "data": {
      "text/plain": [
       "0     950\n",
       "1     710\n",
       "2     644\n",
       "3    1450\n",
       "4     NaN\n",
       "5     NaN\n",
       "6     549\n",
       "7     781\n",
       "8     NaN\n",
       "Name: sqft, dtype: object"
      ]
     },
     "execution_count": 16,
     "metadata": {},
     "output_type": "execute_result"
    }
   ],
   "source": [
    "cl = pd.read_csv('items.csv')\n",
    "for i in cl['sqft'].index:\n",
    "    r = re.search('(\\d+)(?=ft² -)', cl.loc[i,'sqft'])\n",
    "    cl.loc[i,'sqft'] = r.group(1) if r else np.nan\n",
    "\n",
    "cl['sqft'][:9]"
   ]
  },
  {
   "cell_type": "markdown",
   "metadata": {},
   "source": [
    "## Working with Pandas -- an in-class working session"
   ]
  },
  {
   "cell_type": "markdown",
   "metadata": {},
   "source": [
    "OK, let's create a DataFrame from a dictionary, following the example on pg 116 of Python for Data Analysis (PDA)."
   ]
  },
  {
   "cell_type": "code",
   "execution_count": 17,
   "metadata": {},
   "outputs": [],
   "source": [
    "data = {'state': ['Ohio', 'Ohio', 'Ohio', 'Nevada', 'Nevada'], 'year': [2000, 2001, 2002, 2001, 2002],\n",
    "'pop': [1.5, 1.7, 3.6, 2.4, 2.9]}\n",
    "df = DataFrame(data)"
   ]
  },
  {
   "cell_type": "markdown",
   "metadata": {},
   "source": [
    "Explain the contents and structure of 'data'\n",
    "\n",
    "What does 'DataFrame(data)' do? What if we did not begin that line with 'df ='?\n",
    "\n",
    "Look at the contents of df, using just df by itself, and 'print df'.  "
   ]
  },
  {
   "cell_type": "code",
   "execution_count": 18,
   "metadata": {},
   "outputs": [
    {
     "data": {
      "text/html": [
       "<div>\n",
       "<style scoped>\n",
       "    .dataframe tbody tr th:only-of-type {\n",
       "        vertical-align: middle;\n",
       "    }\n",
       "\n",
       "    .dataframe tbody tr th {\n",
       "        vertical-align: top;\n",
       "    }\n",
       "\n",
       "    .dataframe thead th {\n",
       "        text-align: right;\n",
       "    }\n",
       "</style>\n",
       "<table border=\"1\" class=\"dataframe\">\n",
       "  <thead>\n",
       "    <tr style=\"text-align: right;\">\n",
       "      <th></th>\n",
       "      <th>state</th>\n",
       "      <th>year</th>\n",
       "      <th>pop</th>\n",
       "    </tr>\n",
       "  </thead>\n",
       "  <tbody>\n",
       "    <tr>\n",
       "      <th>0</th>\n",
       "      <td>Ohio</td>\n",
       "      <td>2000</td>\n",
       "      <td>1.5</td>\n",
       "    </tr>\n",
       "    <tr>\n",
       "      <th>1</th>\n",
       "      <td>Ohio</td>\n",
       "      <td>2001</td>\n",
       "      <td>1.7</td>\n",
       "    </tr>\n",
       "    <tr>\n",
       "      <th>2</th>\n",
       "      <td>Ohio</td>\n",
       "      <td>2002</td>\n",
       "      <td>3.6</td>\n",
       "    </tr>\n",
       "    <tr>\n",
       "      <th>3</th>\n",
       "      <td>Nevada</td>\n",
       "      <td>2001</td>\n",
       "      <td>2.4</td>\n",
       "    </tr>\n",
       "    <tr>\n",
       "      <th>4</th>\n",
       "      <td>Nevada</td>\n",
       "      <td>2002</td>\n",
       "      <td>2.9</td>\n",
       "    </tr>\n",
       "  </tbody>\n",
       "</table>\n",
       "</div>"
      ],
      "text/plain": [
       "    state  year  pop\n",
       "0    Ohio  2000  1.5\n",
       "1    Ohio  2001  1.7\n",
       "2    Ohio  2002  3.6\n",
       "3  Nevada  2001  2.4\n",
       "4  Nevada  2002  2.9"
      ]
     },
     "execution_count": 18,
     "metadata": {},
     "output_type": "execute_result"
    }
   ],
   "source": [
    "df"
   ]
  },
  {
   "cell_type": "markdown",
   "metadata": {},
   "source": [
    "We can refer to a column in two ways:"
   ]
  },
  {
   "cell_type": "code",
   "execution_count": 19,
   "metadata": {},
   "outputs": [
    {
     "data": {
      "text/plain": [
       "0      Ohio\n",
       "1      Ohio\n",
       "2      Ohio\n",
       "3    Nevada\n",
       "4    Nevada\n",
       "Name: state, dtype: object"
      ]
     },
     "execution_count": 19,
     "metadata": {},
     "output_type": "execute_result"
    }
   ],
   "source": [
    "df['state']"
   ]
  },
  {
   "cell_type": "code",
   "execution_count": 20,
   "metadata": {},
   "outputs": [
    {
     "data": {
      "text/plain": [
       "0      Ohio\n",
       "1      Ohio\n",
       "2      Ohio\n",
       "3    Nevada\n",
       "4    Nevada\n",
       "Name: state, dtype: object"
      ]
     },
     "execution_count": 20,
     "metadata": {},
     "output_type": "execute_result"
    }
   ],
   "source": [
    "df.state"
   ]
  },
  {
   "cell_type": "markdown",
   "metadata": {},
   "source": [
    "We can step through the rows in a dataframe"
   ]
  },
  {
   "cell_type": "code",
   "execution_count": 21,
   "metadata": {},
   "outputs": [
    {
     "name": "stdout",
     "output_type": "stream",
     "text": [
      "Ohio\n",
      "Ohio\n",
      "Ohio\n",
      "Nevada\n",
      "Nevada\n"
     ]
    }
   ],
   "source": [
    "for label in df.state.index:\n",
    "    print(df.state[label])"
   ]
  },
  {
   "cell_type": "markdown",
   "metadata": {},
   "source": [
    "And find the index value within each entry of a specific substring"
   ]
  },
  {
   "cell_type": "code",
   "execution_count": 22,
   "metadata": {},
   "outputs": [
    {
     "name": "stdout",
     "output_type": "stream",
     "text": [
      "2\n",
      "2\n",
      "2\n",
      "-1\n",
      "-1\n"
     ]
    }
   ],
   "source": [
    "for label in df.state.index:\n",
    "    print(df.state[label].find('io'))"
   ]
  },
  {
   "cell_type": "code",
   "execution_count": 23,
   "metadata": {},
   "outputs": [
    {
     "name": "stdout",
     "output_type": "stream",
     "text": [
      "Ohio\n",
      "Ohio\n",
      "Ohio\n",
      "Missing\n",
      "Missing\n"
     ]
    }
   ],
   "source": [
    "for label in df.state.index:\n",
    "    if df.state[label]=='Ohio':\n",
    "        print(df.state[label])\n",
    "    else:\n",
    "        print('Missing')"
   ]
  },
  {
   "cell_type": "markdown",
   "metadata": {},
   "source": [
    "## Now Your Turn"
   ]
  },
  {
   "cell_type": "markdown",
   "metadata": {},
   "source": [
    "Below are a series of questions, with the answers remaining for you to fill in by using pandas expressions that draw on the methods in Chapter 5.  You should not need to use anything more than the content of this chapter -- a subset of the methods summarized above, to do this exercise.  Hopefully you can complete it within class if you've been keeping up with the reading."
   ]
  },
  {
   "cell_type": "markdown",
   "metadata": {},
   "source": [
    "How can we get a quick statistical profile of all the numeric columns?"
   ]
  },
  {
   "cell_type": "code",
   "execution_count": null,
   "metadata": {},
   "outputs": [],
   "source": []
  },
  {
   "cell_type": "markdown",
   "metadata": {},
   "source": [
    "Can you get a profile of a column that is not numeric, like state? Try it."
   ]
  },
  {
   "cell_type": "code",
   "execution_count": null,
   "metadata": {},
   "outputs": [],
   "source": []
  },
  {
   "cell_type": "markdown",
   "metadata": {},
   "source": [
    "How can we print the data types of each column?"
   ]
  },
  {
   "cell_type": "code",
   "execution_count": null,
   "metadata": {},
   "outputs": [],
   "source": []
  },
  {
   "cell_type": "markdown",
   "metadata": {},
   "source": [
    "How can we print just the column containing state names?"
   ]
  },
  {
   "cell_type": "code",
   "execution_count": null,
   "metadata": {},
   "outputs": [],
   "source": []
  },
  {
   "cell_type": "markdown",
   "metadata": {},
   "source": [
    "How can we get a list of the states in the DataFrame, without duplicates?"
   ]
  },
  {
   "cell_type": "code",
   "execution_count": null,
   "metadata": {},
   "outputs": [],
   "source": []
  },
  {
   "cell_type": "markdown",
   "metadata": {},
   "source": [
    "How can we get a count of how many rows we have in each state?"
   ]
  },
  {
   "cell_type": "code",
   "execution_count": null,
   "metadata": {},
   "outputs": [],
   "source": []
  },
  {
   "cell_type": "markdown",
   "metadata": {},
   "source": [
    "How can we compute the mean of population across all the rows?"
   ]
  },
  {
   "cell_type": "code",
   "execution_count": null,
   "metadata": {},
   "outputs": [],
   "source": []
  },
  {
   "cell_type": "markdown",
   "metadata": {},
   "source": [
    "How can we compute the maximum population across all the rows?"
   ]
  },
  {
   "cell_type": "code",
   "execution_count": null,
   "metadata": {},
   "outputs": [],
   "source": []
  },
  {
   "cell_type": "markdown",
   "metadata": {},
   "source": [
    "How can we compute the 20th percentile value of population? "
   ]
  },
  {
   "cell_type": "code",
   "execution_count": null,
   "metadata": {},
   "outputs": [],
   "source": []
  },
  {
   "cell_type": "markdown",
   "metadata": {},
   "source": [
    "How can we compute a Boolean array indicating whether the state is 'Ohio'?"
   ]
  },
  {
   "cell_type": "code",
   "execution_count": null,
   "metadata": {},
   "outputs": [],
   "source": []
  },
  {
   "cell_type": "markdown",
   "metadata": {},
   "source": [
    "How can we select and print just the rows for Ohio?"
   ]
  },
  {
   "cell_type": "code",
   "execution_count": null,
   "metadata": {},
   "outputs": [],
   "source": []
  },
  {
   "cell_type": "markdown",
   "metadata": {},
   "source": [
    "How can we create a new DataFrame containing only the Ohio records?"
   ]
  },
  {
   "cell_type": "code",
   "execution_count": null,
   "metadata": {},
   "outputs": [],
   "source": []
  },
  {
   "cell_type": "markdown",
   "metadata": {},
   "source": [
    "How can we select and print just the rows in which population is more than 2?"
   ]
  },
  {
   "cell_type": "code",
   "execution_count": null,
   "metadata": {},
   "outputs": [],
   "source": []
  },
  {
   "cell_type": "markdown",
   "metadata": {},
   "source": [
    "How could we compute the mean of population that is in Ohio, averaging across years?"
   ]
  },
  {
   "cell_type": "code",
   "execution_count": null,
   "metadata": {},
   "outputs": [],
   "source": []
  },
  {
   "cell_type": "markdown",
   "metadata": {},
   "source": [
    "How can we print the DataFrame, sorted by State and within State, by Population?"
   ]
  },
  {
   "cell_type": "code",
   "execution_count": null,
   "metadata": {},
   "outputs": [],
   "source": []
  },
  {
   "cell_type": "markdown",
   "metadata": {},
   "source": [
    "How can we print the row for Ohio, 2002, selecting on its values (not on row and column indexes)?"
   ]
  },
  {
   "cell_type": "code",
   "execution_count": null,
   "metadata": {},
   "outputs": [],
   "source": []
  },
  {
   "cell_type": "markdown",
   "metadata": {},
   "source": [
    "How can we use row and column indexing to set the population of Ohio in 2002 to 3.4?"
   ]
  },
  {
   "cell_type": "code",
   "execution_count": null,
   "metadata": {},
   "outputs": [],
   "source": []
  },
  {
   "cell_type": "markdown",
   "metadata": {},
   "source": [
    "How can we use row and column indexing to append a new record for Utah, initially with no population or year? "
   ]
  },
  {
   "cell_type": "code",
   "execution_count": null,
   "metadata": {},
   "outputs": [],
   "source": []
  },
  {
   "cell_type": "markdown",
   "metadata": {},
   "source": [
    "How can we set the population to 2.5 and year to 2001 for the new record?"
   ]
  },
  {
   "cell_type": "code",
   "execution_count": null,
   "metadata": {},
   "outputs": [],
   "source": []
  }
 ],
 "metadata": {
  "anaconda-cloud": {},
  "kernelspec": {
   "display_name": "Python 3",
   "language": "python",
   "name": "python3"
  },
  "language_info": {
   "codemirror_mode": {
    "name": "ipython",
    "version": 3
   },
   "file_extension": ".py",
   "mimetype": "text/x-python",
   "name": "python",
   "nbconvert_exporter": "python",
   "pygments_lexer": "ipython3",
   "version": "3.6.5"
  }
 },
 "nbformat": 4,
 "nbformat_minor": 1
}
